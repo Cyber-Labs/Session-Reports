{
  "nbformat": 4,
  "nbformat_minor": 0,
  "metadata": {
    "colab": {
      "name": "Session 5.ipynb",
      "version": "0.3.2",
      "provenance": []
    },
    "kernelspec": {
      "name": "python3",
      "display_name": "Python 3"
    }
  },
  "cells": [
    {
      "metadata": {
        "id": "bckNbdQ1I8B-",
        "colab_type": "code",
        "colab": {
          "base_uri": "https://localhost:8080/",
          "height": 35
        },
        "outputId": "6ac2fbd8-c661-49d7-9588-cf2ab9a09899"
      },
      "cell_type": "code",
      "source": [
        "from keras.models import Model, Sequential\n",
        "from keras.layers import *"
      ],
      "execution_count": 1,
      "outputs": [
        {
          "output_type": "stream",
          "text": [
            "Using TensorFlow backend.\n"
          ],
          "name": "stderr"
        }
      ]
    },
    {
      "metadata": {
        "id": "fpwIYDQTKtgw",
        "colab_type": "text"
      },
      "cell_type": "markdown",
      "source": [
        "# Sequential API"
      ]
    },
    {
      "metadata": {
        "id": "BKSVcXMZJDrt",
        "colab_type": "code",
        "colab": {
          "base_uri": "https://localhost:8080/",
          "height": 363
        },
        "outputId": "01e0a76e-491a-4339-e9b6-381ff8364c1d"
      },
      "cell_type": "code",
      "source": [
        "model = Sequential()\n",
        "\n",
        "model.add(InputLayer((128, 128, 3)))\n",
        "model.add(Conv2D(16, (3, 3)))\n",
        "model.add(Conv2D(32, (3, 3)))\n",
        "model.add(MaxPool2D((2, 2)))\n",
        "\n",
        "model.add(Flatten())\n",
        "model.add(Dense(128))\n",
        "model.add(Dense(10))\n",
        "\n",
        "model.compile('adam', 'categorical_crossentropy', metrics=['acc'])\n",
        "model.summary()"
      ],
      "execution_count": 3,
      "outputs": [
        {
          "output_type": "stream",
          "text": [
            "_________________________________________________________________\n",
            "Layer (type)                 Output Shape              Param #   \n",
            "=================================================================\n",
            "conv2d_3 (Conv2D)            (None, 126, 126, 16)      448       \n",
            "_________________________________________________________________\n",
            "conv2d_4 (Conv2D)            (None, 124, 124, 32)      4640      \n",
            "_________________________________________________________________\n",
            "max_pooling2d_1 (MaxPooling2 (None, 62, 62, 32)        0         \n",
            "_________________________________________________________________\n",
            "flatten_2 (Flatten)          (None, 123008)            0         \n",
            "_________________________________________________________________\n",
            "dense_3 (Dense)              (None, 128)               15745152  \n",
            "_________________________________________________________________\n",
            "dense_4 (Dense)              (None, 10)                1290      \n",
            "=================================================================\n",
            "Total params: 15,751,530\n",
            "Trainable params: 15,751,530\n",
            "Non-trainable params: 0\n",
            "_________________________________________________________________\n"
          ],
          "name": "stdout"
        }
      ]
    },
    {
      "metadata": {
        "id": "GoVHXKGQKxdZ",
        "colab_type": "text"
      },
      "cell_type": "markdown",
      "source": [
        "# Model API"
      ]
    },
    {
      "metadata": {
        "id": "0QQBrBF5JDpa",
        "colab_type": "code",
        "colab": {
          "base_uri": "https://localhost:8080/",
          "height": 363
        },
        "outputId": "40a8f045-ff64-4b75-d87e-25e9aced657c"
      },
      "cell_type": "code",
      "source": [
        "inp = Input((128, 128, 3))\n",
        "x = Conv2D(16, (3, 3))(inp)\n",
        "x = Conv2D(32, (3, 3))(x)\n",
        "\n",
        "x = Flatten()(x)\n",
        "x = Dense(128)(x)\n",
        "out = Dense(10)(x)\n",
        "\n",
        "model = Model(inp, out)\n",
        "\n",
        "model.compile('adam', 'categorical_crossentropy', metrics=['acc'])\n",
        "model.summary()"
      ],
      "execution_count": 4,
      "outputs": [
        {
          "output_type": "stream",
          "text": [
            "_________________________________________________________________\n",
            "Layer (type)                 Output Shape              Param #   \n",
            "=================================================================\n",
            "input_3 (InputLayer)         (None, 128, 128, 3)       0         \n",
            "_________________________________________________________________\n",
            "conv2d_5 (Conv2D)            (None, 126, 126, 16)      448       \n",
            "_________________________________________________________________\n",
            "conv2d_6 (Conv2D)            (None, 124, 124, 32)      4640      \n",
            "_________________________________________________________________\n",
            "flatten_3 (Flatten)          (None, 492032)            0         \n",
            "_________________________________________________________________\n",
            "dense_5 (Dense)              (None, 128)               62980224  \n",
            "_________________________________________________________________\n",
            "dense_6 (Dense)              (None, 10)                1290      \n",
            "=================================================================\n",
            "Total params: 62,986,602\n",
            "Trainable params: 62,986,602\n",
            "Non-trainable params: 0\n",
            "_________________________________________________________________\n"
          ],
          "name": "stdout"
        }
      ]
    }
  ]
}