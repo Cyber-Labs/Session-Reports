{
  "nbformat": 4,
  "nbformat_minor": 0,
  "metadata": {
    "colab": {
      "name": "Session 8.ipynb",
      "version": "0.3.2",
      "provenance": [],
      "collapsed_sections": [
        "TuPko888DBIO",
        "Lz6mj50zCvCd",
        "IYud8AXkC_uM",
        "6zeQPq8gJdlx",
        "elSaGwBPMxqN"
      ],
      "include_colab_link": true
    },
    "kernelspec": {
      "name": "python3",
      "display_name": "Python 3"
    }
  },
  "cells": [
    {
      "cell_type": "markdown",
      "metadata": {
        "id": "view-in-github",
        "colab_type": "text"
      },
      "source": [
        "<a href=\"https://colab.research.google.com/github/Cyber-Labs/Session-Reports/blob/master/Machine%20Learning/Session%208%3A%20Introduction%20to%20Google%20Colaboratory%20and%20Advanced%20Keras/Session_8.ipynb\" target=\"_parent\"><img src=\"https://colab.research.google.com/assets/colab-badge.svg\" alt=\"Open In Colab\"/></a>"
      ]
    },
    {
      "metadata": {
        "id": "TuPko888DBIO",
        "colab_type": "text"
      },
      "cell_type": "markdown",
      "source": [
        "# Mounting drive"
      ]
    },
    {
      "metadata": {
        "id": "X_dPX5UMDAyd",
        "colab_type": "code",
        "outputId": "1eaf307c-ee3b-4b60-9324-de96b79d876c",
        "colab": {
          "base_uri": "https://localhost:8080/",
          "height": 124
        }
      },
      "cell_type": "code",
      "source": [
        "from google.colab import drive\n",
        "drive.mount('gdrive/')"
      ],
      "execution_count": 0,
      "outputs": [
        {
          "output_type": "stream",
          "text": [
            "Go to this URL in a browser: https://accounts.google.com/o/oauth2/auth?client_id=947318989803-6bn6qk8qdgf4n4g3pfee6491hc0brc4i.apps.googleusercontent.com&redirect_uri=urn%3Aietf%3Awg%3Aoauth%3A2.0%3Aoob&scope=email%20https%3A%2F%2Fwww.googleapis.com%2Fauth%2Fdocs.test%20https%3A%2F%2Fwww.googleapis.com%2Fauth%2Fdrive%20https%3A%2F%2Fwww.googleapis.com%2Fauth%2Fdrive.photos.readonly%20https%3A%2F%2Fwww.googleapis.com%2Fauth%2Fpeopleapi.readonly&response_type=code\n",
            "\n",
            "Enter your authorization code:\n",
            "··········\n",
            "Mounted at gdrive/\n"
          ],
          "name": "stdout"
        }
      ]
    },
    {
      "metadata": {
        "id": "teBI3lMXNzj1",
        "colab_type": "code",
        "colab": {}
      },
      "cell_type": "code",
      "source": [
        "ls gdrive/'My Drive'"
      ],
      "execution_count": 0,
      "outputs": []
    },
    {
      "metadata": {
        "id": "koyTHST6Nzhr",
        "colab_type": "code",
        "colab": {}
      },
      "cell_type": "code",
      "source": [
        "from google.colab import files\n",
        "files.download('sample_data/README.md')"
      ],
      "execution_count": 0,
      "outputs": []
    },
    {
      "metadata": {
        "id": "XG9r2YUmOcs4",
        "colab_type": "code",
        "outputId": "045bbee1-42b0-4a22-a642-82b7f9d79134",
        "colab": {
          "resources": {
            "http://localhost:8080/nbextensions/google.colab/files.js": {
              "data": "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",
              "ok": true,
              "headers": [
                [
                  "content-type",
                  "application/javascript"
                ]
              ],
              "status": 200,
              "status_text": ""
            }
          },
          "base_uri": "https://localhost:8080/",
          "height": 113
        }
      },
      "cell_type": "code",
      "source": [
        "files.upload()"
      ],
      "execution_count": 0,
      "outputs": [
        {
          "output_type": "display_data",
          "data": {
            "text/html": [
              "\n",
              "     <input type=\"file\" id=\"files-52b1c04c-37ab-49d5-a08c-95b1ee201962\" name=\"files[]\" multiple disabled />\n",
              "     <output id=\"result-52b1c04c-37ab-49d5-a08c-95b1ee201962\">\n",
              "      Upload widget is only available when the cell has been executed in the\n",
              "      current browser session. Please rerun this cell to enable.\n",
              "      </output>\n",
              "      <script src=\"/nbextensions/google.colab/files.js\"></script> "
            ],
            "text/plain": [
              "<IPython.core.display.HTML object>"
            ]
          },
          "metadata": {
            "tags": []
          }
        },
        {
          "output_type": "stream",
          "text": [
            "Saving S.png to S.png\n"
          ],
          "name": "stdout"
        },
        {
          "output_type": "execute_result",
          "data": {
            "text/plain": [
              "{'S.png': b'\\x89PNG\\r\\n\\x1a\\n\\x00\\x00\\x00\\rIHDR\\x00\\x00\\x007\\x00\\x00\\x00e\\x01\\x03\\x00\\x00\\x00\\xd3S\\xe9\\xf9\\x00\\x00\\x00\\x06PLTE\\x00\\x00\\x00\\xff\\xff\\xff\\xa5\\xd9\\x9f\\xdd\\x00\\x00\\x00\\xdbIDAT(\\x91\\xb5\\xd2\\xc1\\x8d\\x840\\x0c\\x05\\xd0\\x8fr\\xe0H\\t\\x94B+\\xdb\\tlg\\x91\\xa6\\x80m!%p\\x9b\\x1c\"\\xbc\\xff\\xc7\\x8e\\xc4Hs\\x1b\\r\\x97w\\x881\\xfe10\\x7f\\xf0=[r3Vy\\x01\\xb3l\\xc0$O\\x00\\xb2\\xd0\\x9df\\xba\\xd1\\x83\\xae\\x94`\\tg\\xc3u7\\x19\\xd8\\xe6G\\xe7\\r\\xa9\\xa9\\xbe\\xe9p\\x97\\x8b\\xfd\\x9a\\xfb\\xa0\\x95\\x87\\x7f\\xa1\\xbdQu\\xee\\x1c\\xa6p\\n\\xd9\\xd5\\xfaw\\xd7p\\xee\\xb9\\xfa\\xf8\\xeef>\\xf7b\\x9e#\\x8d\\\\#\\xa7\\xf2\\xd5\\xc8\\xd7\"\\x97y\\x1e\\xd3\\x8bI\\x96\\xb0\\xea\\x82zo6\\x909d\\xa7]\\xb6\\xd0\\x869,\\xd8^<\\xe53|\\x84\\xc9\\xbd&\\xb7\\xc2\\xeb\\x0b\\x87\\x94\\x07c\\x1e\\xec\\x975\\\\W\\xcf\\x8e\\xd25\\x9cw\\'\\xdd\\xa3\\xdbb/cO}\\x8f\\xcbm\\xaf\\xe3\\x1e\\xc6\\xfeY\\xd0\\xef\\xcb*\\xbe\\xfb\\x1f~\\xe4?\\x89D\\xdfcL\\x92\\xec\\xa4\\x00\\x00\\x00\\x00IEND\\xaeB`\\x82'}"
            ]
          },
          "metadata": {
            "tags": []
          },
          "execution_count": 5
        }
      ]
    },
    {
      "metadata": {
        "id": "Lz6mj50zCvCd",
        "colab_type": "text"
      },
      "cell_type": "markdown",
      "source": [
        "# Loading Data"
      ]
    },
    {
      "metadata": {
        "id": "XU7IaOF-C8WT",
        "colab_type": "text"
      },
      "cell_type": "markdown",
      "source": [
        "## Downloading\n",
        "`!wget <link here>`"
      ]
    },
    {
      "metadata": {
        "id": "ppnJWnDd0A-s",
        "colab_type": "code",
        "colab": {}
      },
      "cell_type": "code",
      "source": [
        "# example\n",
        "!wget https://cdn.skillenza.com/files/5ee0a2e1-bf6d-4173-8244-e75fa2d7bbe2"
      ],
      "execution_count": 0,
      "outputs": []
    },
    {
      "metadata": {
        "id": "xR5s-c3WRY6G",
        "colab_type": "code",
        "colab": {}
      },
      "cell_type": "code",
      "source": [
        "!wget <link> -O file.zip"
      ],
      "execution_count": 0,
      "outputs": []
    },
    {
      "metadata": {
        "id": "rRveDsyJRgoh",
        "colab_type": "code",
        "colab": {}
      },
      "cell_type": "code",
      "source": [
        "!wget --load-cookies cookies.txt <link>"
      ],
      "execution_count": 0,
      "outputs": []
    },
    {
      "metadata": {
        "id": "uFQWvF8fDPe4",
        "colab_type": "text"
      },
      "cell_type": "markdown",
      "source": [
        "From drive\n",
        "1. First add to your drive\n",
        "2. Mount the drive\n",
        "3. Copy from drive"
      ]
    },
    {
      "metadata": {
        "id": "f0ewHuEDDjyc",
        "colab_type": "code",
        "colab": {}
      },
      "cell_type": "code",
      "source": [
        "#example\n",
        "!cp gdrive/'My Drive'/BRATS2015.zip ./"
      ],
      "execution_count": 0,
      "outputs": []
    },
    {
      "metadata": {
        "id": "_RV7HoayDvw3",
        "colab_type": "text"
      },
      "cell_type": "markdown",
      "source": [
        "Useful package for common file management tasks"
      ]
    },
    {
      "metadata": {
        "id": "9sCaOBfRkhdU",
        "colab_type": "code",
        "colab": {}
      },
      "cell_type": "code",
      "source": [
        "import shutil"
      ],
      "execution_count": 0,
      "outputs": []
    },
    {
      "metadata": {
        "id": "Ei5V_ZsJkqYp",
        "colab_type": "text"
      },
      "cell_type": "markdown",
      "source": [
        "## Extracting"
      ]
    },
    {
      "metadata": {
        "id": "qhbA2RGAOuFD",
        "colab_type": "code",
        "outputId": "22d53de2-b680-4b7d-ffa6-da7b0138d872",
        "colab": {
          "base_uri": "https://localhost:8080/",
          "height": 35
        }
      },
      "cell_type": "code",
      "source": [
        "!7z x file.7z"
      ],
      "execution_count": 0,
      "outputs": [
        {
          "output_type": "stream",
          "text": [
            "rm: cannot remove 'sample_data/': Is a directory\n"
          ],
          "name": "stdout"
        }
      ]
    },
    {
      "metadata": {
        "id": "aMK6Eue2Pl2X",
        "colab_type": "code",
        "colab": {}
      },
      "cell_type": "code",
      "source": [
        "!unzip file.zip"
      ],
      "execution_count": 0,
      "outputs": []
    },
    {
      "metadata": {
        "id": "PNN4-ePUP4bW",
        "colab_type": "text"
      },
      "cell_type": "markdown",
      "source": [
        "for .tar, .tar.gz, .tgz"
      ]
    },
    {
      "metadata": {
        "id": "Ri6J69rnPnz2",
        "colab_type": "code",
        "colab": {}
      },
      "cell_type": "code",
      "source": [
        "!tar -xzvf file.tgz"
      ],
      "execution_count": 0,
      "outputs": []
    },
    {
      "metadata": {
        "id": "IYud8AXkC_uM",
        "colab_type": "text"
      },
      "cell_type": "markdown",
      "source": [
        "# Keras Callbacks"
      ]
    },
    {
      "metadata": {
        "id": "y2FNQftwD501",
        "colab_type": "text"
      },
      "cell_type": "markdown",
      "source": [
        "## Checkpoints"
      ]
    },
    {
      "metadata": {
        "id": "3Wh4fkQVD4QN",
        "colab_type": "code",
        "colab": {}
      },
      "cell_type": "code",
      "source": [
        "keras.callbacks.ModelCheckpoint(\n",
        "                  'Model.val-loss={val_loss:.2f}.val-acc={val_acc:.2f}.h5',\n",
        "                  monitor='val_loss',t\n",
        "                  verbose=0,\n",
        "                  save_best_only=True,\n",
        "                  save_weights_only=False,\n",
        "                  mode='auto',\n",
        "                  period=1,\n",
        "      \n",
        "      )"
      ],
      "execution_count": 0,
      "outputs": []
    },
    {
      "metadata": {
        "id": "WowoKFhCGfn2",
        "colab_type": "text"
      },
      "cell_type": "markdown",
      "source": [
        "### Arguments"
      ]
    },
    {
      "metadata": {
        "id": "NWd5ZaPdGfdp",
        "colab_type": "text"
      },
      "cell_type": "markdown",
      "source": [
        "\n",
        "        filepath: string, path to save the model file.\n",
        "        monitor: quantity to monitor.\n",
        "        verbose: verbosity mode, 0 or 1.\n",
        "        save_best_only: if `save_best_only=True`,\n",
        "            the latest best model according to\n",
        "            the quantity monitored will not be overwritten.\n",
        "        save_weights_only: if True, then only the model's weights will be\n",
        "            saved (`model.save_weights(filepath)`), else the full model\n",
        "            is saved (`model.save(filepath)`).\n",
        "        mode: one of {auto, min, max}.\n",
        "            If `save_best_only=True`, the decision\n",
        "            to overwrite the current save file is made\n",
        "            based on either the maximization or the\n",
        "            minimization of the monitored quantity. For `val_acc`,\n",
        "            this should be `max`, for `val_loss` this should\n",
        "            be `min`, etc. In `auto` mode, the direction is\n",
        "            automatically inferred from the name of the monitored quantity.\n",
        "        period: Interval (number of epochs) between checkpoints."
      ]
    },
    {
      "metadata": {
        "id": "-geDk939EoCH",
        "colab_type": "text"
      },
      "cell_type": "markdown",
      "source": [
        "## Early Stopping"
      ]
    },
    {
      "metadata": {
        "id": "bZlk6Vj3EskV",
        "colab_type": "code",
        "colab": {}
      },
      "cell_type": "code",
      "source": [
        "keras.callbacks.EarlyStopping(\n",
        "    monitor='val_loss',\n",
        "    min_delta=0,\n",
        "    patience=0,\n",
        "    verbose=0,\n",
        "    mode='auto',\n",
        "    baseline=None,\n",
        "    restore_best_weights=False\n",
        ")"
      ],
      "execution_count": 0,
      "outputs": []
    },
    {
      "metadata": {
        "id": "KVE7b4nhGWWT",
        "colab_type": "text"
      },
      "cell_type": "markdown",
      "source": [
        "### Arguments"
      ]
    },
    {
      "metadata": {
        "id": "0jnw17qyGbiR",
        "colab_type": "text"
      },
      "cell_type": "markdown",
      "source": [
        "\n",
        "        monitor: quantity to be monitored.\n",
        "        min_delta: minimum change in the monitored quantity\n",
        "            to qualify as an improvement, i.e. an absolute\n",
        "            change of less than min_delta, will count as no\n",
        "            improvement.\n",
        "        patience: number of epochs with no improvement\n",
        "            after which training will be stopped.\n",
        "        verbose: verbosity mode.\n",
        "        mode: one of {auto, min, max}. In `min` mode,\n",
        "            training will stop when the quantity\n",
        "            monitored has stopped decreasing; in `max`\n",
        "            mode it will stop when the quantity\n",
        "            monitored has stopped increasing; in `auto`\n",
        "            mode, the direction is automatically inferred\n",
        "            from the name of the monitored quantity.\n",
        "        baseline: Baseline value for the monitored quantity to reach.\n",
        "            Training will stop if the model doesn't show improvement\n",
        "            over the baseline.\n",
        "        restore_best_weights: whether to restore model weights from\n",
        "            the epoch with the best value of the monitored quantity.\n",
        "            If False, the model weights obtained at the last step of\n",
        "            training are used."
      ]
    },
    {
      "metadata": {
        "id": "Pc2OX0SkE16c",
        "colab_type": "text"
      },
      "cell_type": "markdown",
      "source": [
        "## Learning Rate Scheduler"
      ]
    },
    {
      "metadata": {
        "id": "8xm5iSSBE2as",
        "colab_type": "code",
        "colab": {}
      },
      "cell_type": "code",
      "source": [
        "keras.callbacks.LearningRateScheduler(schedule, verbose=0)"
      ],
      "execution_count": 0,
      "outputs": []
    },
    {
      "metadata": {
        "id": "nCXSuVWVGQFw",
        "colab_type": "text"
      },
      "cell_type": "markdown",
      "source": [
        "### Arguments"
      ]
    },
    {
      "metadata": {
        "id": "W7YgnZOyGQDd",
        "colab_type": "text"
      },
      "cell_type": "markdown",
      "source": [
        "\n",
        "        schedule: a function that takes an epoch index as input\n",
        "            (integer, indexed from 0) and current learning rate\n",
        "            and returns a new learning rate as output (float).\n",
        "        verbose: int. 0: quiet, 1: update messages."
      ]
    },
    {
      "metadata": {
        "id": "GSiz5NSWE89a",
        "colab_type": "text"
      },
      "cell_type": "markdown",
      "source": [
        "## Tensorboard"
      ]
    },
    {
      "metadata": {
        "id": "TOhiaJHlE-pC",
        "colab_type": "code",
        "colab": {}
      },
      "cell_type": "code",
      "source": [
        "keras.callbacks.TensorBoard(\n",
        "    log_dir='./logs',\n",
        "    histogram_freq=0,\n",
        "    batch_size=32,\n",
        "    write_graph=True,\n",
        "    write_grads=False,\n",
        "    write_images=False,\n",
        "    embeddings_freq=0,\n",
        "    embeddings_layer_names=None,\n",
        "    embeddings_metadata=None,\n",
        "    embeddings_data=None,\n",
        "    update_freq='epoch'\n",
        ")"
      ],
      "execution_count": 0,
      "outputs": []
    },
    {
      "metadata": {
        "id": "Nf8QhZCbGFIG",
        "colab_type": "text"
      },
      "cell_type": "markdown",
      "source": [
        "### Arguments"
      ]
    },
    {
      "metadata": {
        "id": "HNUH-KSHGKMM",
        "colab_type": "text"
      },
      "cell_type": "markdown",
      "source": [
        "\n",
        "        log_dir: the path of the directory where to save the log\n",
        "            files to be parsed by TensorBoard.\n",
        "        histogram_freq: frequency (in epochs) at which to compute activation\n",
        "            and weight histograms for the layers of the model. If set to 0,\n",
        "            histograms won't be computed. Validation data (or split) must be\n",
        "            specified for histogram visualizations.\n",
        "        batch_size: size of batch of inputs to feed to the network\n",
        "            for histograms computation.\n",
        "        write_graph: whether to visualize the graph in TensorBoard.\n",
        "            The log file can become quite large when\n",
        "            write_graph is set to True.\n",
        "        write_grads: whether to visualize gradient histograms in TensorBoard.\n",
        "            `histogram_freq` must be greater than 0.\n",
        "        write_images: whether to write model weights to visualize as\n",
        "            image in TensorBoard.\n",
        "        embeddings_freq: frequency (in epochs) at which selected embedding\n",
        "            layers will be saved. If set to 0, embeddings won't be computed.\n",
        "            Data to be visualized in TensorBoard's Embedding tab must be passed\n",
        "            as `embeddings_data`.\n",
        "        embeddings_layer_names: a list of names of layers to keep eye on. If\n",
        "            None or empty list all the embedding layer will be watched.\n",
        "        embeddings_metadata: a dictionary which maps layer name to a file name\n",
        "            in which metadata for this embedding layer is saved. See the\n",
        "            [details](https://www.tensorflow.org/guide/embedding#metadata)\n",
        "            about metadata files format. In case if the same metadata file is\n",
        "            used for all embedding layers, string can be passed.\n",
        "        embeddings_data: data to be embedded at layers specified in\n",
        "            `embeddings_layer_names`. Numpy array (if the model has a single\n",
        "            input) or list of Numpy arrays (if the model has multiple inputs).\n",
        "            Learn [more about embeddings](\n",
        "            https://www.tensorflow.org/guide/embedding).\n",
        "        update_freq: `'batch'` or `'epoch'` or integer. When using `'batch'`, writes\n",
        "            the losses and metrics to TensorBoard after each batch. The same\n",
        "            applies for `'epoch'`. If using an integer, let's say `10000`,\n",
        "            the callback will write the metrics and losses to TensorBoard every\n",
        "            10000 samples. Note that writing too frequently to TensorBoard\n",
        "            can slow down your training."
      ]
    },
    {
      "metadata": {
        "id": "KIQmp1HvEepy",
        "colab_type": "code",
        "colab": {}
      },
      "cell_type": "code",
      "source": [
        ""
      ],
      "execution_count": 0,
      "outputs": []
    },
    {
      "metadata": {
        "id": "eBMQm8BdJQNy",
        "colab_type": "text"
      },
      "cell_type": "markdown",
      "source": [
        "# Data Generator"
      ]
    },
    {
      "metadata": {
        "id": "NLfHJTCnk-jR",
        "colab_type": "code",
        "colab": {}
      },
      "cell_type": "code",
      "source": [
        "from keras.utils import Sequence\n",
        "import math\n",
        "\n",
        "class data_gen(Sequence):\n",
        "  \n",
        "  def __init__(self, data, labels, batch_size):\n",
        "    self.dataset = data\n",
        "    self.target = labels\n",
        "    self.batch_length = batch_size\n",
        "    self.size = len(data)\n",
        "\n",
        "  def __getitem__(self, idx):\n",
        "    start = idx*self.batch_length\n",
        "    end = min((idx+1)*self.batch_length, self.size)\n",
        "    return self.dataset[start:end], self.target[start:end]\n",
        "\n",
        "  def __len__(self):\n",
        "    return math.ceil(self.size / self.batch_length)"
      ],
      "execution_count": 0,
      "outputs": []
    },
    {
      "metadata": {
        "id": "fhP3iEuCJxXz",
        "colab_type": "code",
        "colab": {}
      },
      "cell_type": "code",
      "source": [
        "traingen = data_gen(data[..., None], labels_one_hot, 32)"
      ],
      "execution_count": 0,
      "outputs": []
    },
    {
      "metadata": {
        "id": "kuJwxCe-J0Q4",
        "colab_type": "code",
        "outputId": "ff2a135a-7746-4725-dbd4-ba42ec4bb121",
        "colab": {
          "base_uri": "https://localhost:8080/",
          "height": 107
        }
      },
      "cell_type": "code",
      "source": [
        "history = model.fit_generator(\n",
        "    traingen,\n",
        "    epochs=1,\n",
        "    callbacks=[\n",
        "        keras.callbacks.ModelCheckpoint(\n",
        "        'model_2',\n",
        "        monitor='val_loss',\n",
        "        verbose=0,\n",
        "        save_best_only=True,\n",
        "        save_weights_only=False,\n",
        "        mode='auto',\n",
        "        period=1\n",
        "      )\n",
        "    ]\n",
        ")"
      ],
      "execution_count": 0,
      "outputs": [
        {
          "output_type": "stream",
          "text": [
            "Epoch 1/1\n",
            "625/625 [==============================] - 16s 25ms/step - loss: 12.8756 - acc: 0.2010\n"
          ],
          "name": "stdout"
        },
        {
          "output_type": "stream",
          "text": [
            "/usr/local/lib/python3.6/dist-packages/keras/callbacks.py:434: RuntimeWarning: Can save best model only with val_loss available, skipping.\n",
            "  'skipping.' % (self.monitor), RuntimeWarning)\n"
          ],
          "name": "stderr"
        }
      ]
    },
    {
      "metadata": {
        "id": "6zeQPq8gJdlx",
        "colab_type": "text"
      },
      "cell_type": "markdown",
      "source": [
        "# Training on Colab Cloud TPU"
      ]
    },
    {
      "metadata": {
        "id": "AxJhBIwXJdTV",
        "colab_type": "code",
        "colab": {}
      },
      "cell_type": "code",
      "source": [
        "model = tf.contrib.tpu.keras_to_tpu_model(\n",
        "    model,\n",
        "    strategy=tf.contrib.tpu.TPUDistributionStrategy(\n",
        "        tf.contrib.cluster_resolver.TPUClusterResolver(tpu='grpc://' + os.environ['COLAB_TPU_ADDR'])\n",
        "    )\n",
        ")"
      ],
      "execution_count": 0,
      "outputs": []
    },
    {
      "metadata": {
        "id": "elSaGwBPMxqN",
        "colab_type": "text"
      },
      "cell_type": "markdown",
      "source": [
        "# Tensorboard"
      ]
    },
    {
      "metadata": {
        "id": "PURY-hSpMxOs",
        "colab_type": "code",
        "colab": {}
      },
      "cell_type": "code",
      "source": [
        ""
      ],
      "execution_count": 0,
      "outputs": []
    },
    {
      "metadata": {
        "id": "SH8eAGFXVqIr",
        "colab_type": "text"
      },
      "cell_type": "markdown",
      "source": [
        "# An example model"
      ]
    },
    {
      "metadata": {
        "id": "1vnVxI56V5bo",
        "colab_type": "code",
        "outputId": "4125d2af-e0ff-402d-cab2-6ce7148a5cfb",
        "colab": {
          "base_uri": "https://localhost:8080/",
          "height": 35
        }
      },
      "cell_type": "code",
      "source": [
        "from keras.models import Model, Sequential\n",
        "from keras.layers import *"
      ],
      "execution_count": 0,
      "outputs": [
        {
          "output_type": "stream",
          "text": [
            "Using TensorFlow backend.\n"
          ],
          "name": "stderr"
        }
      ]
    },
    {
      "metadata": {
        "id": "DwyfjSOcVq1T",
        "colab_type": "code",
        "outputId": "bb7a5c8d-5cd8-46e8-e2e1-1d02269ba7ca",
        "colab": {
          "base_uri": "https://localhost:8080/",
          "height": 351
        }
      },
      "cell_type": "code",
      "source": [
        "model = Sequential()\n",
        "\n",
        "# model.add(InputLayer((28, 28, 1)))  # A bug in keras\n",
        "model.add(Conv2D(6, (3, 3), input_shape=(28, 28, 1)))\n",
        "model.add(Conv2D(6, (3, 3)))\n",
        "model.add(MaxPool2D((2, 2)))\n",
        "\n",
        "model.add(Flatten())\n",
        "model.add(Dense(128))\n",
        "model.add(Dense(10, activation='softmax'))\n",
        "\n",
        "model.compile('adam', 'categorical_crossentropy', metrics=['acc'])\n",
        "model.summary()"
      ],
      "execution_count": 0,
      "outputs": [
        {
          "output_type": "stream",
          "text": [
            "_________________________________________________________________\n",
            "Layer (type)                 Output Shape              Param #   \n",
            "=================================================================\n",
            "conv2d_15 (Conv2D)           (None, 26, 26, 6)         60        \n",
            "_________________________________________________________________\n",
            "conv2d_16 (Conv2D)           (None, 24, 24, 6)         330       \n",
            "_________________________________________________________________\n",
            "max_pooling2d_8 (MaxPooling2 (None, 12, 12, 6)         0         \n",
            "_________________________________________________________________\n",
            "flatten_8 (Flatten)          (None, 864)               0         \n",
            "_________________________________________________________________\n",
            "dense_15 (Dense)             (None, 128)               110720    \n",
            "_________________________________________________________________\n",
            "dense_16 (Dense)             (None, 10)                1290      \n",
            "=================================================================\n",
            "Total params: 112,400\n",
            "Trainable params: 112,400\n",
            "Non-trainable params: 0\n",
            "_________________________________________________________________\n"
          ],
          "name": "stdout"
        }
      ]
    },
    {
      "metadata": {
        "id": "w8tBP-M7XDoE",
        "colab_type": "text"
      },
      "cell_type": "markdown",
      "source": [
        "## Load Data"
      ]
    },
    {
      "metadata": {
        "id": "ovU0wZgHXG7I",
        "colab_type": "code",
        "colab": {}
      },
      "cell_type": "code",
      "source": [
        "import pandas as pd\n",
        "import numpy as np"
      ],
      "execution_count": 0,
      "outputs": []
    },
    {
      "metadata": {
        "id": "huOugfYnXDWn",
        "colab_type": "code",
        "colab": {}
      },
      "cell_type": "code",
      "source": [
        "data = pd.read_csv('sample_data/mnist_train_small.csv', header=None)\n",
        "labels = data.iloc[:, 0]\n",
        "\n",
        "data = data.iloc[:, 1:]"
      ],
      "execution_count": 0,
      "outputs": []
    },
    {
      "metadata": {
        "id": "Dy2POWw8Xt1T",
        "colab_type": "code",
        "colab": {}
      },
      "cell_type": "code",
      "source": [
        "data = np.array(data, dtype=np.uint8)\n",
        "data = data.reshape((len(data), 28, 28))"
      ],
      "execution_count": 0,
      "outputs": []
    },
    {
      "metadata": {
        "id": "SgLo8o1wYDnX",
        "colab_type": "code",
        "outputId": "b8e775d8-c52c-460b-d808-38ded507fe2e",
        "colab": {
          "base_uri": "https://localhost:8080/",
          "height": 373
        }
      },
      "cell_type": "code",
      "source": [
        "import matplotlib.pyplot as plt\n",
        "plt.matshow(data[1])"
      ],
      "execution_count": 0,
      "outputs": [
        {
          "output_type": "execute_result",
          "data": {
            "text/plain": [
              "<matplotlib.image.AxesImage at 0x7f1328e7b518>"
            ]
          },
          "metadata": {
            "tags": []
          },
          "execution_count": 53
        },
        {
          "output_type": "display_data",
          "data": {
            "image/png": "[encoded data removed]",
            "text/plain": [
              "<Figure size 396x396 with 1 Axes>"
            ]
          },
          "metadata": {
            "tags": []
          }
        }
      ]
    },
    {
      "metadata": {
        "id": "HtbTzSXlZvbJ",
        "colab_type": "code",
        "outputId": "4ff3de4a-4290-4cef-d145-21893cb72262",
        "colab": {
          "base_uri": "https://localhost:8080/",
          "height": 35
        }
      },
      "cell_type": "code",
      "source": [
        "print(labels[1])"
      ],
      "execution_count": 0,
      "outputs": [
        {
          "output_type": "stream",
          "text": [
            "5\n"
          ],
          "name": "stdout"
        }
      ]
    },
    {
      "metadata": {
        "id": "jNImhKTQZx9F",
        "colab_type": "code",
        "outputId": "478c88a3-97a1-46ea-9931-3688ae5f9a7b",
        "colab": {
          "base_uri": "https://localhost:8080/",
          "height": 35
        }
      },
      "cell_type": "code",
      "source": [
        "import keras\n",
        "from keras.utils import to_categorical\n",
        "labels_one_hot = to_categorical(labels)\n",
        "labels_one_hot[0]"
      ],
      "execution_count": 0,
      "outputs": [
        {
          "output_type": "execute_result",
          "data": {
            "text/plain": [
              "array([0., 0., 0., 0., 0., 0., 1., 0., 0., 0.], dtype=float32)"
            ]
          },
          "metadata": {
            "tags": []
          },
          "execution_count": 55
        }
      ]
    },
    {
      "metadata": {
        "id": "c7nQ1O-cae1s",
        "colab_type": "code",
        "outputId": "42c2a01e-81b1-4165-9e68-59fc0c6dae75",
        "colab": {
          "base_uri": "https://localhost:8080/",
          "height": 35
        }
      },
      "cell_type": "code",
      "source": [
        "labels_one_hot.shape"
      ],
      "execution_count": 0,
      "outputs": [
        {
          "output_type": "execute_result",
          "data": {
            "text/plain": [
              "(20000, 10)"
            ]
          },
          "metadata": {
            "tags": []
          },
          "execution_count": 56
        }
      ]
    },
    {
      "metadata": {
        "id": "8mQbwAeQaD8E",
        "colab_type": "code",
        "outputId": "c0d6c917-a46f-46c3-ee10-cb9d557e04d3",
        "colab": {
          "base_uri": "https://localhost:8080/",
          "height": 35
        }
      },
      "cell_type": "code",
      "source": [
        "data.shape"
      ],
      "execution_count": 0,
      "outputs": [
        {
          "output_type": "execute_result",
          "data": {
            "text/plain": [
              "(20000, 28, 28)"
            ]
          },
          "metadata": {
            "tags": []
          },
          "execution_count": 57
        }
      ]
    },
    {
      "metadata": {
        "id": "pXzrrP6KV7ed",
        "colab_type": "code",
        "outputId": "9732a850-dbd9-474d-92f2-f646980f522f",
        "colab": {
          "base_uri": "https://localhost:8080/",
          "height": 90
        }
      },
      "cell_type": "code",
      "source": [
        "hist = model.fit(data[..., None], labels_one_hot, epochs=1,\n",
        "#     batch_size=20,\n",
        "#     steps_per_epoch=100,\n",
        "    validation_split=.15,\n",
        "    callbacks=[\n",
        "      keras.callbacks.ModelCheckpoint(\n",
        "      'weights',\n",
        "      monitor='val_loss',\n",
        "      verbose=0,\n",
        "      save_best_only=True,\n",
        "      save_weights_only=True,\n",
        "      mode='auto',\n",
        "      period=1\n",
        "    )\n",
        "  ]\n",
        ")"
      ],
      "execution_count": 0,
      "outputs": [
        {
          "output_type": "stream",
          "text": [
            "Train on 17000 samples, validate on 3000 samples\n",
            "Epoch 1/1\n",
            "17000/17000 [==============================] - 14s 827us/step - loss: 12.8457 - acc: 0.2028 - val_loss: 12.5130 - val_acc: 0.2237\n"
          ],
          "name": "stdout"
        }
      ]
    },
    {
      "metadata": {
        "id": "Bls_nw2MazXM",
        "colab_type": "code",
        "outputId": "0559be76-aab2-4d28-af9f-edf4b2a2e504",
        "colab": {
          "base_uri": "https://localhost:8080/",
          "height": 87
        }
      },
      "cell_type": "code",
      "source": [
        "hist.history"
      ],
      "execution_count": 0,
      "outputs": [
        {
          "output_type": "execute_result",
          "data": {
            "text/plain": [
              "{'acc': [0.36923529411764705],\n",
              " 'loss': [10.16440111766142],\n",
              " 'val_acc': [0.34999999992052716],\n",
              " 'val_loss': [10.476762008666991]}"
            ]
          },
          "metadata": {
            "tags": []
          },
          "execution_count": 46
        }
      ]
    },
    {
      "metadata": {
        "id": "kOpMg249c8Aw",
        "colab_type": "code",
        "colab": {}
      },
      "cell_type": "code",
      "source": [
        "from keras.models import load_model\n",
        "model_loaded = load_model('./Model')"
      ],
      "execution_count": 0,
      "outputs": []
    },
    {
      "metadata": {
        "id": "oLv2H40jgmc9",
        "colab_type": "code",
        "outputId": "c268edc0-cc33-41c0-8673-bc16298e76f3",
        "colab": {
          "base_uri": "https://localhost:8080/",
          "height": 351
        }
      },
      "cell_type": "code",
      "source": [
        "model_loaded.summary()"
      ],
      "execution_count": 0,
      "outputs": [
        {
          "output_type": "stream",
          "text": [
            "_________________________________________________________________\n",
            "Layer (type)                 Output Shape              Param #   \n",
            "=================================================================\n",
            "conv2d_13 (Conv2D)           (None, 26, 26, 6)         60        \n",
            "_________________________________________________________________\n",
            "conv2d_14 (Conv2D)           (None, 24, 24, 6)         330       \n",
            "_________________________________________________________________\n",
            "max_pooling2d_7 (MaxPooling2 (None, 12, 12, 6)         0         \n",
            "_________________________________________________________________\n",
            "flatten_7 (Flatten)          (None, 864)               0         \n",
            "_________________________________________________________________\n",
            "dense_13 (Dense)             (None, 128)               110720    \n",
            "_________________________________________________________________\n",
            "dense_14 (Dense)             (None, 10)                1290      \n",
            "=================================================================\n",
            "Total params: 112,400\n",
            "Trainable params: 112,400\n",
            "Non-trainable params: 0\n",
            "_________________________________________________________________\n"
          ],
          "name": "stdout"
        }
      ]
    },
    {
      "metadata": {
        "id": "B5Zb61QvjynM",
        "colab_type": "code",
        "colab": {}
      },
      "cell_type": "code",
      "source": [
        ""
      ],
      "execution_count": 0,
      "outputs": []
    }
  ]
}